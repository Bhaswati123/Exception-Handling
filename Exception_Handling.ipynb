{
  "nbformat": 4,
  "nbformat_minor": 0,
  "metadata": {
    "colab": {
      "name": "Exception Handling",
      "provenance": [],
      "collapsed_sections": []
    },
    "kernelspec": {
      "name": "python3",
      "display_name": "Python 3"
    },
    "language_info": {
      "name": "python"
    }
  },
  "cells": [
    {
      "cell_type": "markdown",
      "metadata": {
        "id": "er5lU0AuAKag"
      },
      "source": [
        "Below are the examples of Error:"
      ]
    },
    {
      "cell_type": "code",
      "metadata": {
        "colab": {
          "base_uri": "https://localhost:8080/"
        },
        "id": "AltbjkVjABCI",
        "outputId": "946ebf30-72e7-4dd9-d0ce-9a02aa5d0700"
      },
      "source": [
        "%%writefile test.txt"
      ],
      "execution_count": null,
      "outputs": [
        {
          "output_type": "stream",
          "text": [
            "Writing test.txt\n"
          ],
          "name": "stdout"
        }
      ]
    },
    {
      "cell_type": "code",
      "metadata": {
        "colab": {
          "base_uri": "https://localhost:8080/",
          "height": 183
        },
        "id": "mbpo1ztoAg7I",
        "outputId": "179c1c51-695c-4c7c-e8d8-d474f80836f9"
      },
      "source": [
        "f=open('test.txt')\n",
        "f.write('Hello World!')"
      ],
      "execution_count": null,
      "outputs": [
        {
          "output_type": "error",
          "ename": "UnsupportedOperation",
          "evalue": "ignored",
          "traceback": [
            "\u001b[0;31m---------------------------------------------------------------------------\u001b[0m",
            "\u001b[0;31mUnsupportedOperation\u001b[0m                      Traceback (most recent call last)",
            "\u001b[0;32m<ipython-input-4-275f192fda5b>\u001b[0m in \u001b[0;36m<module>\u001b[0;34m()\u001b[0m\n\u001b[1;32m      1\u001b[0m \u001b[0mf\u001b[0m\u001b[0;34m=\u001b[0m\u001b[0mopen\u001b[0m\u001b[0;34m(\u001b[0m\u001b[0;34m'test.txt'\u001b[0m\u001b[0;34m)\u001b[0m\u001b[0;34m\u001b[0m\u001b[0;34m\u001b[0m\u001b[0m\n\u001b[0;32m----> 2\u001b[0;31m \u001b[0mf\u001b[0m\u001b[0;34m.\u001b[0m\u001b[0mwrite\u001b[0m\u001b[0;34m(\u001b[0m\u001b[0;34m'Hello World!'\u001b[0m\u001b[0;34m)\u001b[0m\u001b[0;34m\u001b[0m\u001b[0;34m\u001b[0m\u001b[0m\n\u001b[0m",
            "\u001b[0;31mUnsupportedOperation\u001b[0m: not writable"
          ]
        }
      ]
    },
    {
      "cell_type": "code",
      "metadata": {
        "colab": {
          "base_uri": "https://localhost:8080/",
          "height": 166
        },
        "id": "etnDAQTRApOb",
        "outputId": "a386993d-c918-45f4-fd66-5f3afd7e4838"
      },
      "source": [
        "5/0"
      ],
      "execution_count": null,
      "outputs": [
        {
          "output_type": "error",
          "ename": "ZeroDivisionError",
          "evalue": "ignored",
          "traceback": [
            "\u001b[0;31m---------------------------------------------------------------------------\u001b[0m",
            "\u001b[0;31mZeroDivisionError\u001b[0m                         Traceback (most recent call last)",
            "\u001b[0;32m<ipython-input-5-0106664d39e8>\u001b[0m in \u001b[0;36m<module>\u001b[0;34m()\u001b[0m\n\u001b[0;32m----> 1\u001b[0;31m \u001b[0;36m5\u001b[0m\u001b[0;34m/\u001b[0m\u001b[0;36m0\u001b[0m\u001b[0;34m\u001b[0m\u001b[0;34m\u001b[0m\u001b[0m\n\u001b[0m",
            "\u001b[0;31mZeroDivisionError\u001b[0m: division by zero"
          ]
        }
      ]
    },
    {
      "cell_type": "code",
      "metadata": {
        "colab": {
          "base_uri": "https://localhost:8080/",
          "height": 131
        },
        "id": "qSZ_L1HPArsz",
        "outputId": "7249a9fe-974f-485c-e5df-5ee838771dde"
      },
      "source": [
        "Print('Hello)"
      ],
      "execution_count": null,
      "outputs": [
        {
          "output_type": "error",
          "ename": "SyntaxError",
          "evalue": "ignored",
          "traceback": [
            "\u001b[0;36m  File \u001b[0;32m\"<ipython-input-6-f0d4e5f75d7c>\"\u001b[0;36m, line \u001b[0;32m1\u001b[0m\n\u001b[0;31m    Print('Hello)\u001b[0m\n\u001b[0m                 ^\u001b[0m\n\u001b[0;31mSyntaxError\u001b[0m\u001b[0;31m:\u001b[0m EOL while scanning string literal\n"
          ]
        }
      ]
    },
    {
      "cell_type": "markdown",
      "metadata": {
        "id": "Vr_Bv9C4AvJI"
      },
      "source": [
        "We use exception handling concept to manage/handle this error messages gracefully."
      ]
    },
    {
      "cell_type": "code",
      "metadata": {
        "colab": {
          "base_uri": "https://localhost:8080/"
        },
        "id": "-0p3n26XA25u",
        "outputId": "554bd4c4-81ba-429f-815f-7400e6815a26"
      },
      "source": [
        "try:\n",
        "  f=open('test.txt')\n",
        "  print(f.write('Hello World !'))\n",
        "except:\n",
        "  print('The code is incorrect.')  \n",
        "print('Start again')  "
      ],
      "execution_count": null,
      "outputs": [
        {
          "output_type": "stream",
          "text": [
            "The code is incorrect.\n",
            "Start again\n"
          ],
          "name": "stdout"
        }
      ]
    },
    {
      "cell_type": "code",
      "metadata": {
        "colab": {
          "base_uri": "https://localhost:8080/"
        },
        "id": "vfPq2h5nA3C6",
        "outputId": "a882fc1d-df20-435f-e0fb-72ace3bf816a"
      },
      "source": [
        "try:\n",
        "  f=open('test.txt')\n",
        "  print(f.read())\n",
        "except:\n",
        "  print('The code is incorrect.')  "
      ],
      "execution_count": null,
      "outputs": [
        {
          "output_type": "stream",
          "text": [
            "Hello World !\n"
          ],
          "name": "stdout"
        }
      ]
    },
    {
      "cell_type": "code",
      "metadata": {
        "colab": {
          "base_uri": "https://localhost:8080/"
        },
        "id": "zA4O3yWOA3Fg",
        "outputId": "b75d8b9b-ba33-41aa-9699-2762bf9b87f2"
      },
      "source": [
        "try:\n",
        "  f=open('test.txt')\n",
        "  print(f.write('ebehnd'))\n",
        "except:\n",
        "  print('The code is incorrect.')\n",
        "try:\n",
        "  b=int(input('Input an integer for the operation: '))\n",
        "  c=6/b\n",
        "  print(c)\n",
        "except:\n",
        "  print('Sorry I am unable to execute this.')      "
      ],
      "execution_count": null,
      "outputs": [
        {
          "output_type": "stream",
          "text": [
            "The code is incorrect.\n",
            "Input an integer for the operation: 0\n",
            "Sorry I am unable to execute this.\n"
          ],
          "name": "stdout"
        }
      ]
    },
    {
      "cell_type": "code",
      "metadata": {
        "colab": {
          "base_uri": "https://localhost:8080/"
        },
        "id": "I6eLI9wyA3IM",
        "outputId": "295d68dd-dde8-483f-ee21-422dbcb2eec3"
      },
      "source": [
        "try:\n",
        "  f=open('test.txt')\n",
        "  f.write('Hello')\n",
        "except:\n",
        "  print('The code is incorrect')\n",
        "  try:\n",
        "    c=int(input())\n",
        "    a=6+c\n",
        "  except:\n",
        "    print('This is nested loop.')\n",
        "try:\n",
        "  b=int(input('input an integer for the operation: '))\n",
        "  c=6/b\n",
        "except:\n",
        "  print('Sorry unable to execute the code.')        \n"
      ],
      "execution_count": null,
      "outputs": [
        {
          "output_type": "stream",
          "text": [
            "The code is incorrect\n",
            "ghbn \n",
            "This is nested loop.\n",
            "input an integer for the operation: hn\n",
            "Sorry unable to execute the code.\n"
          ],
          "name": "stdout"
        }
      ]
    },
    {
      "cell_type": "code",
      "metadata": {
        "colab": {
          "base_uri": "https://localhost:8080/"
        },
        "id": "T47Zvl_VA3Lj",
        "outputId": "12795c92-fc8d-4281-f7c8-1028efeac591"
      },
      "source": [
        "try:\n",
        "  f=open('test.txt')\n",
        "  f.write('Hello')\n",
        "except:\n",
        "  print('The code is incorrect')\n",
        "  try:\n",
        "    c=int(input())\n",
        "    a=6+c\n",
        "  except:\n",
        "    print('This is nested loop.')\n",
        "try:\n",
        "  b=int(input('input an integer for the operation: '))\n",
        "  c=6/b\n",
        "  print(c)\n",
        "except:\n",
        "  print('Sorry unable to execute the code.')        \n",
        "else:\n",
        "  print('this will execute once the try block executes successfully.')"
      ],
      "execution_count": null,
      "outputs": [
        {
          "output_type": "stream",
          "text": [
            "The code is incorrect\n",
            "8\n",
            "input an integer for the operation: 8\n",
            "0.75\n",
            "this will execute once the try block executes successfully.\n"
          ],
          "name": "stdout"
        }
      ]
    },
    {
      "cell_type": "code",
      "metadata": {
        "colab": {
          "base_uri": "https://localhost:8080/"
        },
        "id": "zNrExGLxGZul",
        "outputId": "76713258-c05e-4a44-df3b-74e632974fb2"
      },
      "source": [
        "try:\n",
        "  f=open('test.txt')\n",
        "  f.write('Hello')\n",
        "except:\n",
        "  print('The code is incorrect')\n",
        "  try:\n",
        "    c=int(input())\n",
        "    a=6+c\n",
        "  except:\n",
        "    print('This is nested loop.')\n",
        "try:\n",
        "  b=int(input('input an integer for the operation: '))\n",
        "  c=6/b\n",
        "  print(c)\n",
        "except:\n",
        "  print('Sorry unable to execute the code.')        \n",
        "else:\n",
        "  print('this will execute once the try block executes successfully.')\n",
        "finally:\n",
        "  print('This block will execute in ny condition.')\n"
      ],
      "execution_count": null,
      "outputs": [
        {
          "output_type": "stream",
          "text": [
            "The code is incorrect\n",
            "9\n",
            "input an integer for the operation: dsjhxn\n",
            "Sorry unable to execute the code.\n",
            "This block will execute in ny condition.\n"
          ],
          "name": "stdout"
        }
      ]
    },
    {
      "cell_type": "code",
      "metadata": {
        "colab": {
          "base_uri": "https://localhost:8080/"
        },
        "id": "k9NU6ZqVvBOn",
        "outputId": "79e7e45c-9543-4fc8-d0f4-922b39886162"
      },
      "source": [
        "while True:\n",
        "  try:\n",
        "    a=int(input('Enter 1st number:'))\n",
        "    b=int(input('Enter 2nd number:'))\n",
        "    result=a/b\n",
        "    print(result)\n",
        "    break\n",
        "  except:\n",
        "    print('Invalid Input.Please enter correct input....')\n",
        "    continuedty6  "
      ],
      "execution_count": null,
      "outputs": [
        {
          "output_type": "stream",
          "text": [
            "Enter 1st number:yth\n",
            "Invalid Input.Please enter correct input....\n",
            "Enter 1st number:5\n",
            "Enter 2nd number:0\n",
            "Invalid Input.Please enter correct input....\n",
            "Enter 1st number:fg\n",
            "Invalid Input.Please enter correct input....\n",
            "Enter 1st number:5\n",
            "Enter 2nd number:6\n",
            "0.8333333333333334\n"
          ],
          "name": "stdout"
        }
      ]
    },
    {
      "cell_type": "markdown",
      "metadata": {
        "id": "o_Un3tiexUXg"
      },
      "source": [
        "try and except - mandatory block.\n",
        "\n",
        "\n",
        "else and finally - optional block"
      ]
    },
    {
      "cell_type": "code",
      "metadata": {
        "colab": {
          "base_uri": "https://localhost:8080/"
        },
        "id": "osvKRbXPxwb_",
        "outputId": "d0bc7046-0a4b-45b2-d7a1-46486c20460d"
      },
      "source": [
        "try:\n",
        "  f=open('test.txt','w')\n",
        "  f.write('This is new line.')\n",
        "except IOError:\n",
        "  print('Error: Could not find the file or read data')\n",
        "else:\n",
        "  print('Content written successfully.')\n",
        "  f.close()  "
      ],
      "execution_count": null,
      "outputs": [
        {
          "output_type": "stream",
          "text": [
            "Content written successfully.\n"
          ],
          "name": "stdout"
        }
      ]
    },
    {
      "cell_type": "code",
      "metadata": {
        "colab": {
          "base_uri": "https://localhost:8080/"
        },
        "id": "afO_TaLRzq17",
        "outputId": "8f329b5e-1a04-44cb-b936-eb9babf3a883"
      },
      "source": [
        "try:\n",
        "  f=open('test.txt')\n",
        "  f.write('Add one more line.')\n",
        "except Exception as e:\n",
        "  print(e)\n"
      ],
      "execution_count": null,
      "outputs": [
        {
          "output_type": "stream",
          "text": [
            "not writable\n"
          ],
          "name": "stdout"
        }
      ]
    },
    {
      "cell_type": "code",
      "metadata": {
        "colab": {
          "base_uri": "https://localhost:8080/"
        },
        "id": "l6yYsu04z-13",
        "outputId": "5e2e47e6-7cbf-46ca-ce17-2cf57672da5f"
      },
      "source": [
        "try:\n",
        "  f=open('test.txt')\n",
        "  f.write('Helllooooo Hii')\n",
        "except Exception as e:\n",
        "  print('This line has an issue:',e)  "
      ],
      "execution_count": null,
      "outputs": [
        {
          "output_type": "stream",
          "text": [
            "This line has an issue: not writable\n"
          ],
          "name": "stdout"
        }
      ]
    },
    {
      "cell_type": "code",
      "metadata": {
        "colab": {
          "base_uri": "https://localhost:8080/"
        },
        "id": "d2DRUFDJ0amw",
        "outputId": "bc65c890-85fc-4d78-b829-24065bfbd424"
      },
      "source": [
        "try:\n",
        "  5/0\n",
        "except Exception as e:\n",
        "  print('This block has some issue:',e)  "
      ],
      "execution_count": null,
      "outputs": [
        {
          "output_type": "stream",
          "text": [
            "This block has some issue: division by zero\n"
          ],
          "name": "stdout"
        }
      ]
    },
    {
      "cell_type": "markdown",
      "metadata": {
        "id": "6aLlWSrSmInv"
      },
      "source": [
        "Else block will be eexecuted if the try block executes."
      ]
    },
    {
      "cell_type": "code",
      "metadata": {
        "colab": {
          "base_uri": "https://localhost:8080/"
        },
        "id": "-Cro6xxejPFX",
        "outputId": "94814e05-b54d-4b10-8039-e7739a9fb5d3"
      },
      "source": [
        "try:\n",
        "  a=int(input('Enter number one:'))\n",
        "  b=int(input('Enter number 2nd:'))\n",
        "  c=a/b\n",
        "except Exception as e:\n",
        "  print('There is an error in the code:',e)  "
      ],
      "execution_count": null,
      "outputs": [
        {
          "output_type": "stream",
          "text": [
            "Enter number one:abc\n",
            "There is an error in the code: invalid literal for int() with base 10: 'abc'\n"
          ],
          "name": "stdout"
        }
      ]
    },
    {
      "cell_type": "code",
      "metadata": {
        "colab": {
          "base_uri": "https://localhost:8080/",
          "height": 218
        },
        "id": "5I6HWrCOjPH4",
        "outputId": "ff7601ca-d2bf-4546-8883-ec605dcbc658"
      },
      "source": [
        "a=int(input('Enter number one:'))\n",
        "b=int(input('Enter number 2nd:'))\n",
        "c=a/b"
      ],
      "execution_count": null,
      "outputs": [
        {
          "output_type": "stream",
          "text": [
            "Enter number one:hjk\n"
          ],
          "name": "stdout"
        },
        {
          "output_type": "error",
          "ename": "ValueError",
          "evalue": "ignored",
          "traceback": [
            "\u001b[0;31m---------------------------------------------------------------------------\u001b[0m",
            "\u001b[0;31mValueError\u001b[0m                                Traceback (most recent call last)",
            "\u001b[0;32m<ipython-input-2-a6e92dd1a815>\u001b[0m in \u001b[0;36m<module>\u001b[0;34m()\u001b[0m\n\u001b[0;32m----> 1\u001b[0;31m \u001b[0ma\u001b[0m\u001b[0;34m=\u001b[0m\u001b[0mint\u001b[0m\u001b[0;34m(\u001b[0m\u001b[0minput\u001b[0m\u001b[0;34m(\u001b[0m\u001b[0;34m'Enter number one:'\u001b[0m\u001b[0;34m)\u001b[0m\u001b[0;34m)\u001b[0m\u001b[0;34m\u001b[0m\u001b[0;34m\u001b[0m\u001b[0m\n\u001b[0m\u001b[1;32m      2\u001b[0m \u001b[0mb\u001b[0m\u001b[0;34m=\u001b[0m\u001b[0mint\u001b[0m\u001b[0;34m(\u001b[0m\u001b[0minput\u001b[0m\u001b[0;34m(\u001b[0m\u001b[0;34m'Enter number 2nd:'\u001b[0m\u001b[0;34m)\u001b[0m\u001b[0;34m)\u001b[0m\u001b[0;34m\u001b[0m\u001b[0;34m\u001b[0m\u001b[0m\n\u001b[1;32m      3\u001b[0m \u001b[0mc\u001b[0m\u001b[0;34m=\u001b[0m\u001b[0ma\u001b[0m\u001b[0;34m/\u001b[0m\u001b[0mb\u001b[0m\u001b[0;34m\u001b[0m\u001b[0;34m\u001b[0m\u001b[0m\n",
            "\u001b[0;31mValueError\u001b[0m: invalid literal for int() with base 10: 'hjk'"
          ]
        }
      ]
    },
    {
      "cell_type": "code",
      "metadata": {
        "colab": {
          "base_uri": "https://localhost:8080/"
        },
        "id": "EuMe4r2AjPKi",
        "outputId": "88a799b3-b9b8-4c3e-e28b-ebe49f66207e"
      },
      "source": [
        "try:\n",
        "  a=int(input('Enter number one:'))\n",
        "  b=int(input('Enter number 2nd:'))\n",
        "  c=a/b\n",
        "except IOError:\n",
        "  print('There is an error in the code')\n",
        "except ValueError:\n",
        "  print('This block is for valueError')    "
      ],
      "execution_count": null,
      "outputs": [
        {
          "output_type": "stream",
          "text": [
            "Enter number one:dfcv\n",
            "This block is for valueError\n"
          ],
          "name": "stdout"
        }
      ]
    },
    {
      "cell_type": "code",
      "metadata": {
        "colab": {
          "base_uri": "https://localhost:8080/"
        },
        "id": "uC3aKdrMjPOG",
        "outputId": "b592b4cd-6ddb-4d13-d845-6b5644cacf8f"
      },
      "source": [
        "try:\n",
        "  a=int(input('Enter number one:'))\n",
        "  b=int(input('Enter number 2nd:'))\n",
        "  c=a/b\n",
        "except Exception:\n",
        "  print('This is super class of Exception')\n",
        "except IOError:\n",
        "  print('There is an error in the code')\n",
        "except SyntaxError:\n",
        "  print('This block is for syntax error.')  \n",
        "except ValueError:\n",
        "  print('This block is for valueError')   \n",
        "\n",
        "#Exception is the common except block."
      ],
      "execution_count": null,
      "outputs": [
        {
          "output_type": "stream",
          "text": [
            "Enter number one:gfhbvn\n",
            "This is super class of Exception\n"
          ],
          "name": "stdout"
        }
      ]
    },
    {
      "cell_type": "code",
      "metadata": {
        "colab": {
          "base_uri": "https://localhost:8080/"
        },
        "id": "fosYBUyVvO7X",
        "outputId": "3f2e196c-6a42-462d-b366-384048c77cd8"
      },
      "source": [
        "try:\n",
        "  a=int(input('Enter number one:'))\n",
        "  b=int(input('Enter number 2nd:'))\n",
        "  c=a/b\n",
        "except IOError:\n",
        "  print('There is an error in the code')\n",
        "except SyntaxError:\n",
        "  print('This block is for syntax error.')  \n",
        "except ValueError:\n",
        "  print('This block is for valueError')   \n",
        "except Exception:\n",
        "  print('This is super class of Exception')  "
      ],
      "execution_count": null,
      "outputs": [
        {
          "output_type": "stream",
          "text": [
            "Enter number one:hjnm\n",
            "This block is for valueError\n"
          ],
          "name": "stdout"
        }
      ]
    },
    {
      "cell_type": "code",
      "metadata": {
        "colab": {
          "base_uri": "https://localhost:8080/"
        },
        "id": "eEwJqpDnvO-R",
        "outputId": "18631db9-7e4d-4aa0-d62e-ac7075bcf991"
      },
      "source": [
        "try:\n",
        "  a=int(input('Enter number one:'))\n",
        "  b=int(input('Enter number 2nd:'))\n",
        "  c=a/b\n",
        "except (IOError,SyntaxError,Exception):\n",
        "  print('There is a problem in my code.')"
      ],
      "execution_count": null,
      "outputs": [
        {
          "output_type": "stream",
          "text": [
            "Enter number one:gh\n",
            "There is a problem in my code.\n"
          ],
          "name": "stdout"
        }
      ]
    },
    {
      "cell_type": "code",
      "metadata": {
        "colab": {
          "base_uri": "https://localhost:8080/",
          "height": 270
        },
        "id": "v3ZeX0SrvPBq",
        "outputId": "fa67b9bb-cd00-4875-af9c-50fecaecd10f"
      },
      "source": [
        "try:\n",
        "  a=int(input('Enter number one:'))\n",
        "  b=int(input('Enter number 2nd:'))\n",
        "  c=a/b\n",
        "finally:\n",
        "  print('this is my finally block')  \n",
        "\n",
        "#finally block will execute in all circumstances whether the code is correct or not."
      ],
      "execution_count": null,
      "outputs": [
        {
          "output_type": "stream",
          "text": [
            "Enter number one:hn\n",
            "this is my finally block\n"
          ],
          "name": "stdout"
        },
        {
          "output_type": "error",
          "ename": "ValueError",
          "evalue": "ignored",
          "traceback": [
            "\u001b[0;31m---------------------------------------------------------------------------\u001b[0m",
            "\u001b[0;31mValueError\u001b[0m                                Traceback (most recent call last)",
            "\u001b[0;32m<ipython-input-7-91911c4724df>\u001b[0m in \u001b[0;36m<module>\u001b[0;34m()\u001b[0m\n\u001b[1;32m      1\u001b[0m \u001b[0;32mtry\u001b[0m\u001b[0;34m:\u001b[0m\u001b[0;34m\u001b[0m\u001b[0;34m\u001b[0m\u001b[0m\n\u001b[0;32m----> 2\u001b[0;31m   \u001b[0ma\u001b[0m\u001b[0;34m=\u001b[0m\u001b[0mint\u001b[0m\u001b[0;34m(\u001b[0m\u001b[0minput\u001b[0m\u001b[0;34m(\u001b[0m\u001b[0;34m'Enter number one:'\u001b[0m\u001b[0;34m)\u001b[0m\u001b[0;34m)\u001b[0m\u001b[0;34m\u001b[0m\u001b[0;34m\u001b[0m\u001b[0m\n\u001b[0m\u001b[1;32m      3\u001b[0m   \u001b[0mb\u001b[0m\u001b[0;34m=\u001b[0m\u001b[0mint\u001b[0m\u001b[0;34m(\u001b[0m\u001b[0minput\u001b[0m\u001b[0;34m(\u001b[0m\u001b[0;34m'Enter number 2nd:'\u001b[0m\u001b[0;34m)\u001b[0m\u001b[0;34m)\u001b[0m\u001b[0;34m\u001b[0m\u001b[0;34m\u001b[0m\u001b[0m\n\u001b[1;32m      4\u001b[0m   \u001b[0mc\u001b[0m\u001b[0;34m=\u001b[0m\u001b[0ma\u001b[0m\u001b[0;34m/\u001b[0m\u001b[0mb\u001b[0m\u001b[0;34m\u001b[0m\u001b[0;34m\u001b[0m\u001b[0m\n\u001b[1;32m      5\u001b[0m \u001b[0;32mfinally\u001b[0m\u001b[0;34m:\u001b[0m\u001b[0;34m\u001b[0m\u001b[0;34m\u001b[0m\u001b[0m\n",
            "\u001b[0;31mValueError\u001b[0m: invalid literal for int() with base 10: 'hn'"
          ]
        }
      ]
    },
    {
      "cell_type": "code",
      "metadata": {
        "id": "D0DBLhiujPRE"
      },
      "source": [
        "def askint():\n",
        "  try:\n",
        "    val=int(input('Enter a number:'))\n",
        "  except:\n",
        "    print('Looks like you have not entered an integer')\n",
        "  finally:\n",
        "    print('Finally, I execute!!')  \n",
        "  print(val)     "
      ],
      "execution_count": null,
      "outputs": []
    },
    {
      "cell_type": "code",
      "metadata": {
        "colab": {
          "base_uri": "https://localhost:8080/"
        },
        "id": "B1I7k6JoyfIW",
        "outputId": "62c5bfc3-ba7b-415f-e9d3-f74960a78c5e"
      },
      "source": [
        "askint()"
      ],
      "execution_count": null,
      "outputs": [
        {
          "output_type": "stream",
          "text": [
            "Enter a number:56\n",
            "Finally, I execute!!\n",
            "56\n"
          ],
          "name": "stdout"
        }
      ]
    },
    {
      "cell_type": "code",
      "metadata": {
        "id": "kK0g0hw3yl-P"
      },
      "source": [
        "def askint():\n",
        "  try:\n",
        "    val=int(input('Enter an integer.'))\n",
        "  except:\n",
        "    print('Looks like you have not entered an integer')\n",
        "    try:\n",
        "      val=int(input('Try Again !!Please try to enter an integer'))\n",
        "    except:\n",
        "      print('handle it.')\n",
        "  finally:\n",
        "    print('finally i execute it!!!')        "
      ],
      "execution_count": null,
      "outputs": []
    },
    {
      "cell_type": "code",
      "metadata": {
        "colab": {
          "base_uri": "https://localhost:8080/"
        },
        "id": "w04f-0_AymAg",
        "outputId": "df2ac8dc-b08e-4ffa-ff4d-34c54810a38b"
      },
      "source": [
        "askint()"
      ],
      "execution_count": null,
      "outputs": [
        {
          "output_type": "stream",
          "text": [
            "Enter an integer.54\n",
            "finally i execute it!!!\n"
          ],
          "name": "stdout"
        }
      ]
    },
    {
      "cell_type": "code",
      "metadata": {
        "id": "PFXOZibAymDR"
      },
      "source": [
        "def askint():\n",
        "  while True:\n",
        "    try:\n",
        "      val=int(input('Enter an integer:'))\n",
        "    except:\n",
        "      print('looks like not an integer')\n",
        "      break\n",
        "    else:\n",
        "      print('Yuppp thats an integer')\n",
        "      break\n",
        "    finally:\n",
        "      print('Finally I executed it!!')\n",
        "      #print(val)   \n",
        "\n",
        "#While is a conditional loop which iterates till thecondition satisfies or is proven.      \n",
        "         "
      ],
      "execution_count": null,
      "outputs": []
    },
    {
      "cell_type": "code",
      "metadata": {
        "colab": {
          "base_uri": "https://localhost:8080/"
        },
        "id": "JwFOPg9yymGg",
        "outputId": "067815bf-81d3-4c29-d52d-dbc8903cd8e0"
      },
      "source": [
        "askint()"
      ],
      "execution_count": null,
      "outputs": [
        {
          "output_type": "stream",
          "text": [
            "Enter an integer:jkm\n",
            "looks like not an integer\n",
            "Finally I executed it!!\n"
          ],
          "name": "stdout"
        }
      ]
    },
    {
      "cell_type": "code",
      "metadata": {
        "id": "ZuZTKZA51q_g"
      },
      "source": [
        "def askint():\n",
        "  while True:\n",
        "    try:\n",
        "      val=int(input('Enter an integer:'))\n",
        "    except:\n",
        "      print('looks like not an integer')\n",
        "      continue\n",
        "    else:\n",
        "      print('Yuppp thats an integer')\n",
        "      break\n",
        "    finally:\n",
        "      print('Finally I executed it!!')\n",
        "      #print(val) "
      ],
      "execution_count": null,
      "outputs": []
    },
    {
      "cell_type": "code",
      "metadata": {
        "colab": {
          "base_uri": "https://localhost:8080/"
        },
        "id": "QnYY5pxG1rCJ",
        "outputId": "fd270f70-d83b-4f69-b3e8-6d958d75c6d4"
      },
      "source": [
        "askint()"
      ],
      "execution_count": null,
      "outputs": [
        {
          "output_type": "stream",
          "text": [
            "Enter an integer:tgh\n",
            "looks like not an integer\n",
            "Finally I executed it!!\n",
            "Enter an integer:fgv\n",
            "looks like not an integer\n",
            "Finally I executed it!!\n",
            "Enter an integer:5'\n",
            "looks like not an integer\n",
            "Finally I executed it!!\n",
            "Enter an integer:7\n",
            "Yuppp thats an integer\n",
            "Finally I executed it!!\n"
          ],
          "name": "stdout"
        }
      ]
    },
    {
      "cell_type": "code",
      "metadata": {
        "colab": {
          "base_uri": "https://localhost:8080/"
        },
        "id": "aABHevEk1rEs",
        "outputId": "8edbd05d-734c-4f2e-9f66-492bed4ddb41"
      },
      "source": [
        "try:\n",
        "  f=open('test.txt','r')\n",
        "  f.write('This is newline')\n",
        "except(ValueError,Exception,SyntaxError):\n",
        "  print('The code has an error.')  \n",
        "else:\n",
        "  print('This block will execute once the try block executes.') \n",
        "finally:\n",
        "  print('finally is executed!!!')   "
      ],
      "execution_count": null,
      "outputs": [
        {
          "output_type": "stream",
          "text": [
            "The code has an error.\n",
            "finally is executed!!!\n"
          ],
          "name": "stdout"
        }
      ]
    },
    {
      "cell_type": "code",
      "metadata": {
        "id": "XG0hzVl71rHC"
      },
      "source": [
        "class ZeroDivisionError(Exception):\n",
        "  pass"
      ],
      "execution_count": null,
      "outputs": []
    },
    {
      "cell_type": "code",
      "metadata": {
        "colab": {
          "base_uri": "https://localhost:8080/"
        },
        "id": "FxCNGIst1rKh",
        "outputId": "516cece5-3f42-4c9d-ea29-8e7e9f07c857"
      },
      "source": [
        "try:\n",
        "  a=int(input('Enter the 1st number:'))\n",
        "  b=int(input('Enter the 2nd number:'))\n",
        "  c=a/b\n",
        "  print(c)\n",
        "  if b==0:\n",
        "    raise ZeroDivisionError\n",
        "\n",
        "except ZeroDivisionError:\n",
        "  print('The value of b is zero.')  "
      ],
      "execution_count": null,
      "outputs": [
        {
          "output_type": "stream",
          "text": [
            "Enter the 1st number:6\n",
            "Enter the 2nd number:0\n",
            "The value of b is zero.\n"
          ],
          "name": "stdout"
        }
      ]
    },
    {
      "cell_type": "markdown",
      "metadata": {
        "id": "-Xc9-KG9_sfb"
      },
      "source": [
        "**Raise:** Using raise keyword we can raise as many as exceptions we want.\n"
      ]
    }
  ]
}